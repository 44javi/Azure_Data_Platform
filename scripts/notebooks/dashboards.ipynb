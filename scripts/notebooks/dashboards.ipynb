{
 "cells": [
  {
   "cell_type": "markdown",
   "id": "423af06d",
   "metadata": {},
   "source": [
    "# Databricks Dashboards for workspace and account levels as well as enabling system tables "
   ]
  },
  {
   "cell_type": "markdown",
   "id": "c801a726",
   "metadata": {},
   "source": [
    "**Note:** Keep as a string when encountering error on the dashboard. The below is correct\n",
    "Coalece(jr.result_state, 'UNKNOWN') AS result_state"
   ]
  },
  {
   "cell_type": "code",
   "execution_count": null,
   "id": "025e7562",
   "metadata": {
    "vscode": {
     "languageId": "plaintext"
    }
   },
   "outputs": [],
   "source": [
    "%pip install dbdemos"
   ]
  },
  {
   "cell_type": "code",
   "execution_count": null,
   "id": "f3211f2f",
   "metadata": {
    "vscode": {
     "languageId": "plaintext"
    }
   },
   "outputs": [],
   "source": [
    "import dbdemos\n",
    "\n",
    "dbdemos.install(\n",
    "    'uc-04-system-tables',\n",
    "     catalog='',   \n",
    ")"
   ]
  }
 ],
 "metadata": {
  "language_info": {
   "name": "python"
  }
 },
 "nbformat": 4,
 "nbformat_minor": 5
}
