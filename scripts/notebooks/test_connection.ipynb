{
 "cells": [
  {
   "cell_type": "markdown",
   "id": "73de11f4",
   "metadata": {},
   "source": [
    "# This notebook test the connection between the compute clusters and datalake"
   ]
  },
  {
   "cell_type": "code",
   "execution_count": null,
   "id": "63a482d4",
   "metadata": {
    "vscode": {
     "languageId": "plaintext"
    }
   },
   "outputs": [],
   "source": [
    "# Import required PySpark libraries\n",
    "from pyspark.sql import SparkSession\n",
    "from pyspark.sql.functions import *\n",
    "\n",
    "# Configuration for storage paths, catalog, and schemas\n",
    "CONFIG = {\n",
    "    'catalog_name': 'client_dev_catalog',\n",
    "    'bronze_schema': 'bronze_container_schema',\n",
    "    'gold_schema': 'gold_container_schema',\n",
    "    'storage_account': 'datalake account name',\n",
    "    'bronze_path': 'abfss://bronze@{storage_account}.dfs.core.windows.net/vitals/date=*/hour=*/*.gz',\n",
    "    'gold_path': 'abfss://gold@{storage_account}.dfs.core.windows.net/output'\n",
    "}\n",
    "\n",
    "# Format storage paths using the storage account name\n",
    "CONFIG['bronze_path'] = CONFIG['bronze_path'].format(storage_account=CONFIG['storage_account'])\n",
    "CONFIG['gold_path'] = CONFIG['gold_path'].format(storage_account=CONFIG['storage_account'])\n",
    "\n",
    "# Create a Spark session with Unity Catalog enabled\n",
    "spark = SparkSession.builder \\\n",
    "    .appName(\"Azure Data Lake Access\") \\\n",
    "    .getOrCreate()\n",
    "\n",
    "try:\n",
    "    # Set the catalog \n",
    "    print(\"Setting up Unity Catalog context...\")\n",
    "    spark.sql(f\"USE CATALOG {CONFIG['catalog_name']}\")\n",
    "    \n",
    "    # Use bronze schema\n",
    "    print(\"\\nUsing bronze schema for reading...\")\n",
    "    spark.sql(f\"USE SCHEMA {CONFIG['bronze_schema']}\")\n",
    "    \n",
    "    # Read using bronze schema\n",
    "    bronze_data_sample = spark.read.format(\"json\") \\\n",
    "        .load(CONFIG['bronze_path']) \\\n",
    "        .limit(2)\n",
    "\n",
    "    print(\"Sample data:\")\n",
    "    bronze_data_sample.show()\n",
    "\n",
    "    # Use gold schema\n",
    "    print(\"\\nUsing gold schema for writing...\")\n",
    "    spark.sql(f\"USE SCHEMA {CONFIG['gold_schema']}\")\n",
    "\n",
    "    # Write using gold schema\n",
    "    bronze_data_sample.write \\\n",
    "        .format(\"parquet\") \\\n",
    "        .mode(\"overwrite\") \\\n",
    "        .save(CONFIG['gold_path'])\n",
    "   \n",
    "    print(\"Write operation completed successfully\")\n",
    "       \n",
    "except Exception as e:\n",
    "    print(f\"Error: {str(e)}\")"
   ]
  }
 ],
 "metadata": {
  "language_info": {
   "name": "python"
  }
 },
 "nbformat": 4,
 "nbformat_minor": 5
}
